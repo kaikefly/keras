{
 "cells": [
  {
   "cell_type": "markdown",
   "metadata": {},
   "source": [
    "## 目标函数 objectives\n",
    "\n",
    "目标函数，或称损失函数，是编译一个模型必须的两个参数之一："
   ]
  },
  {
   "cell_type": "code",
   "execution_count": null,
   "metadata": {},
   "outputs": [],
   "source": [
    "model.compile(loss='mean_squared_error', optimizer='sgd')"
   ]
  },
  {
   "cell_type": "markdown",
   "metadata": {},
   "source": [
    "可以通过传递预定义目标函数名字指定目标函数，也可以传递一个Theano/TensroFlow的符号函数作为目标函数，该函数对每个数据点应该只返回一个标量值，并以下列两个参数为参数：\n",
    "\n",
    "* y_true：真实的数据标签，Theano/TensorFlow张量\n",
    "* y_pred：预测值，与y_true相同shape的Theano/TensorFlow张量"
   ]
  },
  {
   "cell_type": "code",
   "execution_count": null,
   "metadata": {},
   "outputs": [],
   "source": [
    "from keras import losses\n",
    "\n",
    "model.compile(loss=losses.mean_squared_error, optimizer='sgd')"
   ]
  },
  {
   "cell_type": "markdown",
   "metadata": {},
   "source": [
    "真实的优化目标函数是在各个数据点得到的损失函数值之和的均值\n",
    "\n",
    "\n",
    "可用的目标函数\n",
    "* mean_squared_error或mse\n",
    "* mean_absolute_error或mae\n",
    "* mean_absolute_percentage_error或mape\n",
    "* mean_squared_logarithmic_error或msle\n",
    "* squared_hinge\n",
    "* hinge\n",
    "* categorical_hinge\n",
    "* binary_crossentropy（亦称作对数损失，logloss）\n",
    "* logcosh\n",
    "* categorical_crossentropy：亦称作多类的对数损失，注意使用该目标函数时，需要将标签转化为形如(nb_samples, nb_classes)的二值序列\n",
    "* sparse_categorical_crossentrop：如上，但接受稀疏标签。注意，使用该函数时仍然需要你的标签与输出值的维度相同，你可能需要在标签数据上增加一个维度：np.expand_dims(y,-1)\n",
    "* kullback_leibler_divergence:从预测值概率分布Q到真值概率分布P的信息增益,用以度量两个分布的差异.\n",
    "* poisson：即(predictions - targets * log(predictions))的均值\n",
    "* cosine_proximity：即预测值与真实标签的余弦距离平均值的相反数\n",
    "\n",
    "注意: 当使用\"categorical_crossentropy\"作为目标函数时,标签应该为多类模式,即one-hot编码的向量,而不是单个数值. 可以使用工具中的to_categorical函数完成该转换.示例如下:"
   ]
  },
  {
   "cell_type": "code",
   "execution_count": null,
   "metadata": {},
   "outputs": [],
   "source": [
    "from keras.utils.np_utils import to_categorical\n",
    "\n",
    "categorical_labels = to_categorical(int_labels, num_classes=None)"
   ]
  }
 ],
 "metadata": {
  "kernelspec": {
   "display_name": "Python 3",
   "language": "python",
   "name": "python3"
  },
  "language_info": {
   "codemirror_mode": {
    "name": "ipython",
    "version": 3
   },
   "file_extension": ".py",
   "mimetype": "text/x-python",
   "name": "python",
   "nbconvert_exporter": "python",
   "pygments_lexer": "ipython3",
   "version": "3.6.0"
  }
 },
 "nbformat": 4,
 "nbformat_minor": 2
}
